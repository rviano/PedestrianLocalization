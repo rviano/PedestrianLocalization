{
 "cells": [
  {
   "cell_type": "code",
   "execution_count": 1,
   "metadata": {},
   "outputs": [
    {
     "name": "stderr",
     "output_type": "stream",
     "text": [
      "Using TensorFlow backend.\n"
     ]
    }
   ],
   "source": [
    "from keras.preprocessing.image import ImageDataGenerator\n",
    "from keras.models import Sequential\n",
    "from keras.layers import Conv2D, MaxPooling2D\n",
    "from keras.layers import Activation, Dropout, Flatten, Dense\n",
    "from keras import backend as K\n",
    "from keras.optimizers import SGD,RMSprop,adam\n",
    "from keras.utils import np_utils\n",
    "\n",
    "import numpy as np\n",
    "import matplotlib.pyplot as plt\n",
    "import matplotlib\n",
    "import os\n",
    "#import theano\n",
    "from PIL import Image\n",
    "from numpy import *\n",
    "# SKLEARN\n",
    "from sklearn.utils import shuffle\n",
    "from sklearn.model_selection import train_test_split\n",
    "from keras.preprocessing.image import ImageDataGenerator, array_to_img, img_to_array, load_img"
   ]
  },
  {
   "cell_type": "code",
   "execution_count": 6,
   "metadata": {},
   "outputs": [
    {
     "name": "stdout",
     "output_type": "stream",
     "text": [
      "(1176, 640)\n"
     ]
    }
   ],
   "source": [
    "import os\n",
    "from PIL import Image\n",
    "\n",
    "# number of channels\n",
    "img_channels = 1\n",
    "#  data\n",
    "pathImages = \"/media/rodrigo/Rodrigo/PAO/VGG/Train/pedestrian/pedestrian_0.jpg\"\n",
    "img = Image.open(pathImages)\n",
    "img.show()\n",
    "print(img.size)\n",
    "img_width, img_height = img.size\n"
   ]
  },
  {
   "cell_type": "code",
   "execution_count": 10,
   "metadata": {},
   "outputs": [],
   "source": [
    "##image resizing\n",
    "img_width, img_height = 150, 150\n",
    "\n",
    "train_data_dir = '/media/rodrigo/Rodrigo/PAO/VGG/Train'\n",
    "validation_data_dir = '/media/rodrigo/Rodrigo/PAO/VGG/Test'\n",
    "nb_train_samples = 2211 + 2588\n",
    "nb_validation_samples = 272 + 211\n",
    "epochs = 50\n",
    "batch_size = 16\n",
    "\n",
    "if K.image_data_format() == 'channels_first':\n",
    "    input_shape = (3, img_width, img_height)\n",
    "else:\n",
    "    input_shape = (img_width, img_height, 3)"
   ]
  },
  {
   "cell_type": "code",
   "execution_count": 11,
   "metadata": {},
   "outputs": [],
   "source": [
    "model = Sequential()\n",
    "model.add(Conv2D(32, (3, 3), input_shape=(150, 150, 3)))\n",
    "model.add(Activation('relu'))\n",
    "model.add(MaxPooling2D(pool_size=(2, 2)))\n",
    "\n",
    "model.add(Conv2D(32, (3, 3)))\n",
    "model.add(Activation('relu'))\n",
    "model.add(MaxPooling2D(pool_size=(2, 2)))\n",
    "\n",
    "model.add(Conv2D(64, (3, 3)))\n",
    "model.add(Activation('relu'))\n",
    "model.add(MaxPooling2D(pool_size=(2, 2)))\n",
    "\n",
    "model.add(Flatten())  # this converts our 3D feature maps to 1D feature vectors\n",
    "model.add(Dense(64))\n",
    "model.add(Activation('relu'))\n",
    "model.add(Dropout(0.5))\n",
    "model.add(Dense(1))\n",
    "model.add(Activation('sigmoid'))\n",
    "\n",
    "model.compile(loss='binary_crossentropy',\n",
    "              optimizer='rmsprop',\n",
    "              metrics=['accuracy'])\n",
    "model_json = model.to_json()\n",
    "with open(\"model.json\", \"w\") as json_file:\n",
    "    json_file.write(model_json)"
   ]
  },
  {
   "cell_type": "code",
   "execution_count": 25,
   "metadata": {},
   "outputs": [
    {
     "name": "stdout",
     "output_type": "stream",
     "text": [
      "Found 4799 images belonging to 2 classes.\n",
      "Found 483 images belonging to 2 classes.\n",
      "Epoch 1/50\n",
      "299/299 [==============================] - 84s 280ms/step - loss: 0.2625 - acc: 0.8880 - val_loss: 0.5014 - val_acc: 0.8354\n",
      "Epoch 2/50\n",
      "299/299 [==============================] - 84s 280ms/step - loss: 0.2466 - acc: 0.8944 - val_loss: 0.4237 - val_acc: 0.6895\n",
      "Epoch 3/50\n",
      "299/299 [==============================] - 84s 280ms/step - loss: 0.2343 - acc: 0.8976 - val_loss: 0.4228 - val_acc: 0.8480\n",
      "Epoch 4/50\n",
      "299/299 [==============================] - 83s 278ms/step - loss: 0.2230 - acc: 0.9059 - val_loss: 0.3032 - val_acc: 0.8501\n",
      "Epoch 5/50\n",
      "299/299 [==============================] - 84s 280ms/step - loss: 0.2219 - acc: 0.9091 - val_loss: 0.3927 - val_acc: 0.7281\n",
      "Epoch 6/50\n",
      "299/299 [==============================] - 85s 284ms/step - loss: 0.2155 - acc: 0.9061 - val_loss: 0.2640 - val_acc: 0.8844\n",
      "Epoch 7/50\n",
      "299/299 [==============================] - 84s 280ms/step - loss: 0.1953 - acc: 0.9172 - val_loss: 0.4102 - val_acc: 0.8651\n",
      "Epoch 8/50\n",
      "299/299 [==============================] - 84s 282ms/step - loss: 0.2055 - acc: 0.9122 - val_loss: 0.2191 - val_acc: 0.9015\n",
      "Epoch 9/50\n",
      "299/299 [==============================] - 84s 282ms/step - loss: 0.1877 - acc: 0.9232 - val_loss: 0.2980 - val_acc: 0.8801\n",
      "Epoch 10/50\n",
      "299/299 [==============================] - 84s 279ms/step - loss: 0.1851 - acc: 0.9279 - val_loss: 0.3289 - val_acc: 0.8694\n",
      "Epoch 11/50\n",
      "299/299 [==============================] - 83s 278ms/step - loss: 0.1930 - acc: 0.9245 - val_loss: 0.3230 - val_acc: 0.8630\n",
      "Epoch 12/50\n",
      "299/299 [==============================] - 83s 278ms/step - loss: 0.1894 - acc: 0.9220 - val_loss: 0.2101 - val_acc: 0.9015\n",
      "Epoch 13/50\n",
      "299/299 [==============================] - 83s 279ms/step - loss: 0.1824 - acc: 0.9220 - val_loss: 0.2070 - val_acc: 0.8801\n",
      "Epoch 14/50\n",
      "299/299 [==============================] - 83s 276ms/step - loss: 0.1855 - acc: 0.9232 - val_loss: 0.2310 - val_acc: 0.8887\n",
      "Epoch 15/50\n",
      "299/299 [==============================] - 83s 279ms/step - loss: 0.1810 - acc: 0.9241 - val_loss: 0.3450 - val_acc: 0.9122\n",
      "Epoch 16/50\n",
      "299/299 [==============================] - 83s 279ms/step - loss: 0.1806 - acc: 0.9254 - val_loss: 0.2375 - val_acc: 0.9101\n",
      "Epoch 17/50\n",
      "299/299 [==============================] - 83s 277ms/step - loss: 0.1732 - acc: 0.9281 - val_loss: 0.2344 - val_acc: 0.9058\n",
      "Epoch 18/50\n",
      "299/299 [==============================] - 83s 279ms/step - loss: 0.1807 - acc: 0.9239 - val_loss: 0.2933 - val_acc: 0.8608\n",
      "Epoch 19/50\n",
      "299/299 [==============================] - 84s 279ms/step - loss: 0.1765 - acc: 0.9277 - val_loss: 0.3414 - val_acc: 0.8929\n",
      "Epoch 20/50\n",
      "299/299 [==============================] - 83s 278ms/step - loss: 0.1741 - acc: 0.9308 - val_loss: 0.1599 - val_acc: 0.9422\n",
      "Epoch 21/50\n",
      "299/299 [==============================] - 84s 279ms/step - loss: 0.1775 - acc: 0.9270 - val_loss: 0.1967 - val_acc: 0.9015\n",
      "Epoch 22/50\n",
      "299/299 [==============================] - 84s 280ms/step - loss: 0.1752 - acc: 0.9291 - val_loss: 0.3745 - val_acc: 0.8865\n",
      "Epoch 23/50\n",
      "299/299 [==============================] - 84s 280ms/step - loss: 0.1876 - acc: 0.9241 - val_loss: 0.2826 - val_acc: 0.8972\n",
      "Epoch 24/50\n",
      "299/299 [==============================] - 83s 278ms/step - loss: 0.1695 - acc: 0.9377 - val_loss: 0.2256 - val_acc: 0.9101\n",
      "Epoch 25/50\n",
      "299/299 [==============================] - 84s 280ms/step - loss: 0.1742 - acc: 0.9302 - val_loss: 0.3033 - val_acc: 0.9058\n",
      "Epoch 26/50\n",
      "299/299 [==============================] - 83s 279ms/step - loss: 0.1760 - acc: 0.9300 - val_loss: 0.1737 - val_acc: 0.9036\n",
      "Epoch 27/50\n",
      "299/299 [==============================] - 83s 278ms/step - loss: 0.1760 - acc: 0.9319 - val_loss: 0.1753 - val_acc: 0.9293\n",
      "Epoch 28/50\n",
      "299/299 [==============================] - 83s 279ms/step - loss: 0.1716 - acc: 0.9299 - val_loss: 0.1812 - val_acc: 0.9015\n",
      "Epoch 29/50\n",
      "299/299 [==============================] - 83s 279ms/step - loss: 0.1694 - acc: 0.9312 - val_loss: 0.2515 - val_acc: 0.9058\n",
      "Epoch 30/50\n",
      "299/299 [==============================] - 83s 279ms/step - loss: 0.1698 - acc: 0.9285 - val_loss: 0.3072 - val_acc: 0.8758\n",
      "Epoch 31/50\n",
      "299/299 [==============================] - 84s 279ms/step - loss: 0.1708 - acc: 0.9314 - val_loss: 0.1672 - val_acc: 0.9272\n",
      "Epoch 32/50\n",
      "299/299 [==============================] - 84s 280ms/step - loss: 0.1827 - acc: 0.9287 - val_loss: 0.1754 - val_acc: 0.9187\n",
      "Epoch 33/50\n",
      "299/299 [==============================] - 83s 279ms/step - loss: 0.1814 - acc: 0.9285 - val_loss: 0.4535 - val_acc: 0.8266\n",
      "Epoch 34/50\n",
      "299/299 [==============================] - 84s 279ms/step - loss: 0.1784 - acc: 0.9344 - val_loss: 0.4353 - val_acc: 0.8715\n",
      "Epoch 35/50\n",
      "299/299 [==============================] - 84s 281ms/step - loss: 0.1873 - acc: 0.9287 - val_loss: 0.2230 - val_acc: 0.9229\n",
      "Epoch 36/50\n",
      "299/299 [==============================] - 84s 281ms/step - loss: 0.1848 - acc: 0.9260 - val_loss: 0.2175 - val_acc: 0.9079\n",
      "Epoch 37/50\n",
      "299/299 [==============================] - 86s 289ms/step - loss: 0.1746 - acc: 0.9324 - val_loss: 0.3995 - val_acc: 0.8865\n",
      "Epoch 38/50\n",
      "299/299 [==============================] - 93s 312ms/step - loss: 0.1722 - acc: 0.9333 - val_loss: 0.1108 - val_acc: 0.9529\n",
      "Epoch 39/50\n",
      "299/299 [==============================] - 91s 304ms/step - loss: 0.1769 - acc: 0.9283 - val_loss: 0.2507 - val_acc: 0.8608\n",
      "Epoch 40/50\n",
      "299/299 [==============================] - 91s 303ms/step - loss: 0.1852 - acc: 0.9262 - val_loss: 0.1820 - val_acc: 0.9400\n",
      "Epoch 41/50\n",
      "299/299 [==============================] - 88s 294ms/step - loss: 0.1767 - acc: 0.9310 - val_loss: 0.3782 - val_acc: 0.8929\n",
      "Epoch 42/50\n",
      "299/299 [==============================] - 88s 295ms/step - loss: 0.1790 - acc: 0.9310 - val_loss: 0.2297 - val_acc: 0.9229\n",
      "Epoch 43/50\n",
      "299/299 [==============================] - 83s 277ms/step - loss: 0.1755 - acc: 0.9296 - val_loss: 0.1468 - val_acc: 0.9229\n",
      "Epoch 44/50\n",
      "299/299 [==============================] - 83s 278ms/step - loss: 0.1795 - acc: 0.9352 - val_loss: 0.0894 - val_acc: 0.9572\n",
      "Epoch 45/50\n",
      "299/299 [==============================] - 85s 283ms/step - loss: 0.1559 - acc: 0.9365 - val_loss: 0.2349 - val_acc: 0.8737\n",
      "Epoch 46/50\n",
      "299/299 [==============================] - 83s 278ms/step - loss: 0.1787 - acc: 0.9268 - val_loss: 0.1215 - val_acc: 0.9379\n",
      "Epoch 47/50\n",
      "299/299 [==============================] - 83s 279ms/step - loss: 0.1722 - acc: 0.9358 - val_loss: 0.1302 - val_acc: 0.9379\n",
      "Epoch 48/50\n",
      "299/299 [==============================] - 82s 275ms/step - loss: 0.1661 - acc: 0.9404 - val_loss: 0.4610 - val_acc: 0.8779\n",
      "Epoch 49/50\n",
      "299/299 [==============================] - 84s 282ms/step - loss: 0.1789 - acc: 0.9312 - val_loss: 0.0829 - val_acc: 0.9722\n",
      "Epoch 50/50\n",
      "299/299 [==============================] - 89s 297ms/step - loss: 0.1776 - acc: 0.9279 - val_loss: 0.0883 - val_acc: 0.9743\n"
     ]
    }
   ],
   "source": [
    "# this is the augmentation configuration I will use for training\n",
    "train_datagen = ImageDataGenerator(\n",
    "    rescale=1. / 255,\n",
    "    shear_range=0.2,\n",
    "    zoom_range=0.2,\n",
    "    horizontal_flip=True)\n",
    "\n",
    "# this is the augmentation configuration I will use for testing:\n",
    "# only rescaling\n",
    "test_datagen = ImageDataGenerator(rescale=1. / 255)\n",
    "\n",
    "#Train data\n",
    "train_generator = train_datagen.flow_from_directory(\n",
    "    train_data_dir,\n",
    "    target_size=(img_width, img_height),\n",
    "    batch_size=batch_size,\n",
    "    class_mode='binary')\n",
    "#Test data\n",
    "validation_generator = test_datagen.flow_from_directory(\n",
    "    validation_data_dir,\n",
    "    target_size=(img_width, img_height),\n",
    "    batch_size=batch_size,\n",
    "    class_mode='binary')\n",
    "\n",
    "history=model.fit_generator(\n",
    "    train_generator,\n",
    "    steps_per_epoch=nb_train_samples // batch_size,\n",
    "    epochs=epochs,\n",
    "    validation_data=validation_generator,\n",
    "    validation_steps=nb_validation_samples // batch_size)\n",
    "\n",
    "model.save_weights('first_try.h5')\n"
   ]
  },
  {
   "cell_type": "code",
   "execution_count": 26,
   "metadata": {},
   "outputs": [
    {
     "name": "stdout",
     "output_type": "stream",
     "text": [
      "Model Keys:  dict_keys(['val_loss', 'val_acc', 'loss', 'acc'])\n"
     ]
    },
    {
     "data": {
      "image/png": "[encoded data removed]",
      "text/plain": [
       "<Figure size 432x288 with 1 Axes>"
      ]
     },
     "metadata": {
      "needs_background": "light"
     },
     "output_type": "display_data"
    },
    {
     "data": {
      "image/png": "[encoded data removed]",
      "text/plain": [
       "<Figure size 432x288 with 1 Axes>"
      ]
     },
     "metadata": {
      "needs_background": "light"
     },
     "output_type": "display_data"
    }
   ],
   "source": [
    "def plotAccuracy (model):\n",
    "    plt.plot(model.history.history['acc'])\n",
    "    plt.plot(model.history.history['val_acc'])\n",
    "    plt.title('model accuracy')\n",
    "    plt.ylabel('accuracy')\n",
    "    plt.xlabel('epoch')\n",
    "    plt.legend(['train', 'validation'], loc='upper left')\n",
    "    plt.show()\n",
    "def plotLoss (model):\n",
    "    plt.plot(model.history.history['loss'])\n",
    "    plt.plot(model.history.history['val_loss'])\n",
    "    plt.title('model loss')\n",
    "    plt.ylabel('loss')\n",
    "    plt.xlabel('epoch')\n",
    "    plt.legend(['train', 'validation'], loc='upper left')\n",
    "    plt.show()\n",
    "print(\"Model Keys: \" , model.history.history.keys())\n",
    "plotAccuracy(model)\n",
    "plotLoss(model)\n",
    "\n"
   ]
  },
  {
   "cell_type": "code",
   "execution_count": 27,
   "metadata": {},
   "outputs": [
    {
     "name": "stdout",
     "output_type": "stream",
     "text": [
      "Loaded model from disk\n"
     ]
    }
   ],
   "source": [
    "from keras.preprocessing import image\n",
    "from keras.models import load_model\n",
    "import cv2\n",
    "import numpy as np\n",
    "from keras.models import model_from_json\n",
    "\n",
    "json_file = open('model.json', 'r')\n",
    "loaded_model_json = json_file.read()\n",
    "json_file.close()\n",
    "loaded_model = model_from_json(loaded_model_json)\n",
    "# load weights into new model\n",
    "loaded_model.load_weights(\"first_try.h5\")\n",
    "print(\"Loaded model from disk\")"
   ]
  },
  {
   "cell_type": "code",
   "execution_count": 35,
   "metadata": {},
   "outputs": [
    {
     "name": "stdout",
     "output_type": "stream",
     "text": [
      "[[1]]\n",
      "[[1]]\n",
      "[[1]]\n",
      "[[1]]\n",
      "[[1]]\n"
     ]
    }
   ],
   "source": [
    "#model = load_model('first_try.h5')\n",
    "\n",
    "#"
   ]
  },
  {
   "cell_type": "code",
   "execution_count": null,
   "metadata": {},
   "outputs": [],
   "source": [
    "path1=\"/media/rodrigo/Rodrigo/DataZip/TrainingData/Data/TestData/2012-10-11_144809/RectGrabber/\"\n",
    "listingFolders = os.listdir(path1)\n",
    "\n",
    "for files in listingFolders:\n",
    "    print(files)\n",
    "    #print(path1 + files)\n",
    "    listingImages = os.listdir(path1 + files)\n",
    "    for images in listingImages:\n",
    "        #print(path1 + files + '/' + images)\n",
    "        img = cv2.imread(path1 + files + '/' + images)\n",
    "        img = cv2.resize(img,(150,150))\n",
    "        img = np.reshape(img,[1,150,150,3])\n",
    "        classes = model.predict_classes(img)\n",
    "        if classes == 0 :\n",
    "            print('Not Pedestrian: ', images)\n",
    "        if classes == 1 :\n",
    "            print('Pedestrian: ', images)"
   ]
  },
  {
   "cell_type": "code",
   "execution_count": null,
   "metadata": {},
   "outputs": [],
   "source": []
  },
  {
   "cell_type": "code",
   "execution_count": null,
   "metadata": {},
   "outputs": [],
   "source": []
  },
  {
   "cell_type": "code",
   "execution_count": null,
   "metadata": {},
   "outputs": [],
   "source": []
  }
 ],
 "metadata": {
  "kernelspec": {
   "display_name": "Python 3",
   "language": "python",
   "name": "python3"
  },
  "language_info": {
   "codemirror_mode": {
    "name": "ipython",
    "version": 3
   },
   "file_extension": ".py",
   "mimetype": "text/x-python",
   "name": "python",
   "nbconvert_exporter": "python",
   "pygments_lexer": "ipython3",
   "version": "3.6.6"
  }
 },
 "nbformat": 4,
 "nbformat_minor": 2
}
